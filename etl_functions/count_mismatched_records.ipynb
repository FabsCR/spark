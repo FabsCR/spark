{
 "cells": [
  {
   "cell_type": "code",
   "execution_count": null,
   "metadata": {},
   "outputs": [],
   "source": [
    "from pyspark.sql import SparkSession\n",
    "from pyspark.sql.functions import trim, lower, col, split\n",
    "\n",
    "def count_non_matching_districts(oij_path, inec_path):\n",
    "    \"\"\"\n",
    "    Cuenta la cantidad de registros en el conjunto de datos del OIJ \n",
    "    que no coinciden con ningún distrito del conjunto de datos del INEC.\n",
    "\n",
    "    Args:\n",
    "        oij_path (str): Ruta al archivo CSV del conjunto de datos OIJ.\n",
    "        inec_path (str): Ruta al archivo CSV del conjunto de datos INEC.\n",
    "\n",
    "    Returns:\n",
    "        int: Número de registros del OIJ sin coincidencia en INEC.\n",
    "    \"\"\"\n",
    "    # Crear una sesión de Spark\n",
    "    spark = SparkSession.builder \\\n",
    "        .appName(\"Comparar Distritos OIJ e INEC\") \\\n",
    "        .getOrCreate()\n",
    "\n",
    "    # Cargar los datasets\n",
    "    df_oij = spark.read.csv(oij_path, header=True, inferSchema=True)\n",
    "    df_inec = spark.read.csv(inec_path, header=True, inferSchema=True)\n",
    "    \n",
    "    # Limpiar y transformar la columna de distrito en ambos datasets\n",
    "    df_oij_clean = df_oij.withColumn(\"Distrito\", trim(lower(col(\"Distrito\"))))\n",
    "    df_inec_clean = df_inec.withColumn(\n",
    "        \"distrito\",\n",
    "        trim(lower(split(col(\"Provincia\"), \",\").getItem(2)))\n",
    "    )\n",
    "    \n",
    "    # Realizar un left anti join para encontrar distritos no coincidentes\n",
    "    non_matching_districts = df_oij_clean.join(\n",
    "        df_inec_clean,\n",
    "        df_oij_clean[\"Distrito\"] == df_inec_clean[\"distrito\"],\n",
    "        \"left_anti\"\n",
    "    )\n",
    "    \n",
    "    # Contar registros no coincidentes\n",
    "    return non_matching_districts.count()\n"
   ]
  },
  {
   "cell_type": "code",
   "execution_count": null,
   "metadata": {},
   "outputs": [],
   "source": [
    "oij_file_path = \"C:\\\\Users\\\\andco\\\\Desktop\\\\spark\\\\data\\\\OIJ.csv\"\n",
    "inec_file_path = \"C:\\\\Users\\\\andco\\\\Desktop\\\\spark\\\\data\\\\inec.csv\"\n",
    "\n",
    "# Llamar a la función\n",
    "resultado = count_non_matching_districts(oij_file_path, inec_file_path)\n",
    "print(f\"Número de registros no coincidentes: {resultado}\")\n"
   ]
  }
 ],
 "metadata": {
  "kernelspec": {
   "display_name": "Python 3",
   "language": "python",
   "name": "python3"
  },
  "language_info": {
   "name": "python",
   "version": "3.13.0"
  }
 },
 "nbformat": 4,
 "nbformat_minor": 2
}
