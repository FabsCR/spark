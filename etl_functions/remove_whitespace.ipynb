{
 "cells": [
  {
   "cell_type": "code",
   "execution_count": null,
   "metadata": {},
   "outputs": [],
   "source": [
    "from pyspark.sql import SparkSession\n",
    "from pyspark.sql.functions import trim\n",
    "\n",
    "# Crear una sesión de Spark\n",
    "spark = SparkSession.builder \\\n",
    "    .appName(\"Preprocessing Data\") \\\n",
    "    .getOrCreate()\n",
    "\n",
    "# Cargar datos desde un archivo CSV\n",
    "oij_df = spark.read.csv(\"C:/Users/grana/OneDrive/Escritorio/Bases de datos/spark/data/OIJ.csv\", header=True, inferSchema=True)\n",
    "inec_df = spark.read.csv(\"C:/Users/grana/OneDrive/Escritorio/Bases de datos/spark/data/INEC.csv\", header=True, inferSchema=True)\n",
    "\n",
    "def eliminar_espacios(dataframe, columna):\n",
    "    \"\"\"\n",
    "    Elimina los espacios en blanco al inicio y final de los valores en una columna específica.\n",
    "\n",
    "    Args:\n",
    "        dataframe (DataFrame): DataFrame de entrada (PySpark).\n",
    "        columna (str): Nombre de la columna a procesar.\n",
    "\n",
    "    Returns:\n",
    "        DataFrame: DataFrame con la columna modificada.\n",
    "    \"\"\"\n",
    "    return dataframe.withColumn(columna, trim(dataframe[columna]))\n",
    "\n",
    "# Eliminar espacios en blanco en la columna 'Distrito' en ambos DataFrames\n",
    "oij_df = eliminar_espacios(oij_df, 'Distrito')\n",
    "inec_df = eliminar_espacios(inec_df, 'Provincia cantón y distrito')  # Ajustar si la columna tiene otro nombre\n",
    "\n",
    "# Mostrar los resultados\n",
    "print(\"Datos del OIJ después de limpiar:\")\n",
    "oij_df.show(50, truncate=False)\n",
    "\n",
    "print(\"Datos del INEC después de limpiar:\")\n",
    "inec_df.show(50, truncate=False)\n",
    "\n"
   ]
  }
 ],
 "metadata": {
  "kernelspec": {
   "display_name": "Python 3",
   "language": "python",
   "name": "python3"
  },
  "language_info": {
   "codemirror_mode": {
    "name": "ipython",
    "version": 3
   },
   "file_extension": ".py",
   "mimetype": "text/x-python",
   "name": "python",
   "nbconvert_exporter": "python",
   "pygments_lexer": "ipython3",
   "version": "3.12.4"
  }
 },
 "nbformat": 4,
 "nbformat_minor": 2
}
