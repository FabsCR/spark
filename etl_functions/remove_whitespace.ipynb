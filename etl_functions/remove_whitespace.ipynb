{
 "cells": [
  {
   "cell_type": "code",
   "execution_count": 9,
   "metadata": {},
   "outputs": [
    {
     "name": "stdout",
     "output_type": "stream",
     "text": [
      "SparkSession creada: 3.5.3\n"
     ]
    }
   ],
   "source": [
    "from pyspark.sql import SparkSession\n",
    "from pyspark.sql.functions import trim, col, regexp_replace, split\n",
    "\n",
    "try:\n",
    "    spark = SparkSession.builder \\\n",
    "        .appName(\"Proyecto SparkSQL\") \\\n",
    "        .config(\"spark.jars.packages\", \"org.postgresql:postgresql:42.7.4\") \\\n",
    "        .config(\"spark.driver.extraClassPath\", \"/path/to/postgresql-42.7.4.jar\") \\\n",
    "        .config(\"spark.executor.extraClassPath\", \"/path/to/postgresql-42.7.4.jar\") \\\n",
    "        .getOrCreate()\n",
    "    print(\"SparkSession creada:\", spark.version)\n",
    "except Exception as e:\n",
    "    print(\"Error al crear SparkSession:\", str(e))\n",
    "\n",
    "def clean_district_column(df, column_name):\n",
    "    \"\"\"\n",
    "    Elimina espacios en blanco extras y normaliza el texto en una columna\n",
    "    \n",
    "    Args:\n",
    "        df: DataFrame de Spark\n",
    "        column_name: Nombre de la columna a limpiar\n",
    "        \n",
    "    Returns:\n",
    "        DataFrame con la columna limpia\n",
    "    \"\"\"\n",
    "    # Elimina espacios en blanco múltiples y normaliza\n",
    "    cleaned_df = df.withColumn(\n",
    "        column_name,\n",
    "        trim(regexp_replace(col(column_name), \"\\\\s+\", \" \"))\n",
    "    )\n",
    "    \n",
    "    return cleaned_df\n",
    "\n",
    "def extract_district_from_compound(df):\n",
    "    \"\"\"\n",
    "    Extrae el distrito de la columna compuesta 'Provincia, cantón y distrito'\n",
    "    y limpia los espacios\n",
    "    \n",
    "    Args:\n",
    "        df: DataFrame de INEC\n",
    "        \n",
    "    Returns:\n",
    "        DataFrame con nueva columna 'distrito' limpia\n",
    "    \"\"\"\n",
    "    # Divide la columna por comas y toma el último elemento (distrito)\n",
    "    df_with_district = df.withColumn(\n",
    "        'distrito',\n",
    "        trim(split(col('Provincia, cantón y distrito'), ',').getItem(2))\n",
    "    )\n",
    "    \n",
    "    # Limpia la columna distrito\n",
    "    cleaned_df = clean_district_column(df_with_district, 'distrito')\n",
    "    \n",
    "    return cleaned_df\n",
    "\n",
    "# Uso:\n",
    "# Para OIJ.csv:\n",
    "# df_oij_clean = clean_district_column(df_oij, 'Distrito')\n",
    "\n",
    "# Para INEC.csv:\n",
    "# df_inec_clean = extract_district_from_compound(df_inec)\n"
   ]
  },
  {
   "cell_type": "code",
   "execution_count": null,
   "metadata": {},
   "outputs": [],
   "source": []
  }
 ],
 "metadata": {
  "kernelspec": {
   "display_name": "Python 3",
   "language": "python",
   "name": "python3"
  },
  "language_info": {
   "codemirror_mode": {
    "name": "ipython",
    "version": 3
   },
   "file_extension": ".py",
   "mimetype": "text/x-python",
   "name": "python",
   "nbconvert_exporter": "python",
   "pygments_lexer": "ipython3",
   "version": "3.12.4"
  }
 },
 "nbformat": 4,
 "nbformat_minor": 2
}
