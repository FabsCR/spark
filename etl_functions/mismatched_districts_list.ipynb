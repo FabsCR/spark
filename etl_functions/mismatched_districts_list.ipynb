{
 "cells": [
  {
   "cell_type": "markdown",
   "metadata": {},
   "source": [
    "## Función que devuelve la lista de distritos del conjunto de datos del OIJ que\n",
    "## no coinciden con ningún distrito del conjunto de datos del INEC."
   ]
  },
  {
   "cell_type": "code",
   "execution_count": null,
   "metadata": {},
   "outputs": [],
   "source": [
    "from pyspark.sql import SparkSession\n",
    "from pyspark.sql.functions import trim, lower, col, split\n",
    "\n",
    "spark = SparkSession.builder \\\n",
    "    .appName(\"Proyecto SparkSQL\") \\\n",
    "    .config(\"spark.jars.packages\", \"org.postgresql:postgresql:42.7.4\") \\\n",
    "    .getOrCreate()\n",
    "    \n",
    "# función que devuelve la lista de distritos del conjunto de datos del OIJ que no coinciden con ningún distrito del INEC\n",
    "def find_non_matching_districts(df_oij, df_inec):\n",
    "    \"\"\"\n",
    "    Encuentra y devuelve una lista de distritos del conjunto de datos del OIJ que no coinciden\n",
    "    con ningún distrito del conjunto de datos del INEC.\n",
    "    \n",
    "    Args:\n",
    "        df_oij: DataFrame de Spark que contiene los datos del OIJ\n",
    "        df_inec: DataFrame de Spark que contiene los datos del INEC\n",
    "        \n",
    "    Returns:\n",
    "        DataFrame con los distritos del OIJ que no tienen coincidencias en el conjunto de datos del INEC\n",
    "    \"\"\"\n",
    "    # validar que los DataFrames no estén vacíos\n",
    "    if df_oij.rdd.isEmpty() or df_inec.rdd.isEmpty():\n",
    "        print(\"Uno o ambos DataFrames están vacíos.\")\n",
    "        return None\n",
    "\n",
    "    # validar que las columnas existan\n",
    "    if \"Distrito\" not in df_oij.columns or \"distrito\" not in df_inec.columns:\n",
    "        print(\"Columnas requeridas no encontradas en los DataFrames.\")\n",
    "        return None\n",
    "\n",
    "    # para asegurarse de que los distritos estén en minúsculas y sin espacios adicionales\n",
    "    df_oij_clean = df_oij.withColumn(\"Distrito\", trim(lower(col(\"Distrito\"))))\n",
    "    df_inec_clean = df_inec.withColumn(\"distrito\", trim(lower(col(\"distrito\"))))\n",
    "\n",
    "    # realizar un left anti join para encontrar distritos en OIJ que no estén en INEC\n",
    "    non_matching_districts = df_oij_clean.join(\n",
    "        df_inec_clean,\n",
    "        df_oij_clean[\"Distrito\"] == df_inec_clean[\"distrito\"],\n",
    "        \"left_anti\"\n",
    "    ).select(\"Distrito\").distinct()\n",
    "\n",
    "    return non_matching_districts\n",
    "\n",
    "# cargar los conjuntos de datos\n",
    "df_oij = spark.read.csv(\"C:\\\\Projects\\\\Spark\\\\data\\\\OIJ.csv\", header=True, inferSchema=True)\n",
    "df_inec = spark.read.csv(\"C:\\\\Projects\\\\Spark\\\\data\\\\INEC.csv\", header=True, inferSchema=True)\n",
    "\n",
    "# extraer columna de distrito de INEC\n",
    "df_inec_clean = df_inec.withColumn(\n",
    "    'distrito',\n",
    "    trim(lower(split(col('Provincia, cantón y distrito'), ',').getItem(2)))\n",
    ")\n",
    "\n",
    "# aplicar la función para encontrar distritos no coincidentes\n",
    "non_matching = find_non_matching_districts(df_oij, df_inec_clean)\n",
    "\n",
    "# mostrar el resultado si hay datos\n",
    "if non_matching:\n",
    "    non_matching.show()\n",
    "else:\n",
    "    print(\"No hay distritos no coincidentes o hubo un error en la comparación.\")"
   ]
  }
 ],
 "metadata": {
  "kernelspec": {
   "display_name": "Python 3",
   "language": "python",
   "name": "python3"
  },
  "language_info": {
   "codemirror_mode": {
    "name": "ipython",
    "version": 3
   },
   "file_extension": ".py",
   "mimetype": "text/x-python",
   "name": "python",
   "nbconvert_exporter": "python",
   "pygments_lexer": "ipython3",
   "version": "3.13.0"
  }
 },
 "nbformat": 4,
 "nbformat_minor": 2
}
